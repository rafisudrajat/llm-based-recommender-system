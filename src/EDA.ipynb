{
 "cells": [
  {
   "cell_type": "code",
   "execution_count": 1,
   "metadata": {},
   "outputs": [
    {
     "data": {
      "text/plain": [
       "True"
      ]
     },
     "execution_count": 1,
     "metadata": {},
     "output_type": "execute_result"
    }
   ],
   "source": [
    "import pandas as pd\n",
    "import numpy as np\n",
    "import os\n",
    "from openai import AzureOpenAI\n",
    "from dotenv import load_dotenv\n",
    "from sklearn.metrics.pairwise import cosine_similarity\n",
    "import ast\n",
    "from pymilvus import connections, FieldSchema, CollectionSchema, DataType, Collection, utility, MilvusClient, SearchResult\n",
    "\n",
    "load_dotenv()\n"
   ]
  },
  {
   "cell_type": "markdown",
   "metadata": {},
   "source": [
    "# Raw Recipe Processing"
   ]
  },
  {
   "cell_type": "code",
   "execution_count": 5,
   "metadata": {},
   "outputs": [],
   "source": [
    "recipe_data = pd.read_csv(\"../data/RAW_recipes.csv\")"
   ]
  },
  {
   "cell_type": "code",
   "execution_count": 10,
   "metadata": {},
   "outputs": [
    {
     "data": {
      "text/html": [
       "<div>\n",
       "<style scoped>\n",
       "    .dataframe tbody tr th:only-of-type {\n",
       "        vertical-align: middle;\n",
       "    }\n",
       "\n",
       "    .dataframe tbody tr th {\n",
       "        vertical-align: top;\n",
       "    }\n",
       "\n",
       "    .dataframe thead th {\n",
       "        text-align: right;\n",
       "    }\n",
       "</style>\n",
       "<table border=\"1\" class=\"dataframe\">\n",
       "  <thead>\n",
       "    <tr style=\"text-align: right;\">\n",
       "      <th></th>\n",
       "      <th>name</th>\n",
       "      <th>id</th>\n",
       "      <th>minutes</th>\n",
       "      <th>contributor_id</th>\n",
       "      <th>submitted</th>\n",
       "      <th>tags</th>\n",
       "      <th>nutrition</th>\n",
       "      <th>n_steps</th>\n",
       "      <th>steps</th>\n",
       "      <th>description</th>\n",
       "      <th>ingredients</th>\n",
       "      <th>n_ingredients</th>\n",
       "    </tr>\n",
       "  </thead>\n",
       "  <tbody>\n",
       "    <tr>\n",
       "      <th>0</th>\n",
       "      <td>arriba   baked winter squash mexican style</td>\n",
       "      <td>137739</td>\n",
       "      <td>55</td>\n",
       "      <td>47892</td>\n",
       "      <td>2005-09-16</td>\n",
       "      <td>['60-minutes-or-less', 'time-to-make', 'course...</td>\n",
       "      <td>[51.5, 0.0, 13.0, 0.0, 2.0, 0.0, 4.0]</td>\n",
       "      <td>11</td>\n",
       "      <td>['make a choice and proceed with recipe', 'dep...</td>\n",
       "      <td>autumn is my favorite time of year to cook! th...</td>\n",
       "      <td>['winter squash', 'mexican seasoning', 'mixed ...</td>\n",
       "      <td>7</td>\n",
       "    </tr>\n",
       "    <tr>\n",
       "      <th>1</th>\n",
       "      <td>a bit different  breakfast pizza</td>\n",
       "      <td>31490</td>\n",
       "      <td>30</td>\n",
       "      <td>26278</td>\n",
       "      <td>2002-06-17</td>\n",
       "      <td>['30-minutes-or-less', 'time-to-make', 'course...</td>\n",
       "      <td>[173.4, 18.0, 0.0, 17.0, 22.0, 35.0, 1.0]</td>\n",
       "      <td>9</td>\n",
       "      <td>['preheat oven to 425 degrees f', 'press dough...</td>\n",
       "      <td>this recipe calls for the crust to be prebaked...</td>\n",
       "      <td>['prepared pizza crust', 'sausage patty', 'egg...</td>\n",
       "      <td>6</td>\n",
       "    </tr>\n",
       "    <tr>\n",
       "      <th>2</th>\n",
       "      <td>all in the kitchen  chili</td>\n",
       "      <td>112140</td>\n",
       "      <td>130</td>\n",
       "      <td>196586</td>\n",
       "      <td>2005-02-25</td>\n",
       "      <td>['time-to-make', 'course', 'preparation', 'mai...</td>\n",
       "      <td>[269.8, 22.0, 32.0, 48.0, 39.0, 27.0, 5.0]</td>\n",
       "      <td>6</td>\n",
       "      <td>['brown ground beef in large pot', 'add choppe...</td>\n",
       "      <td>this modified version of 'mom's' chili was a h...</td>\n",
       "      <td>['ground beef', 'yellow onions', 'diced tomato...</td>\n",
       "      <td>13</td>\n",
       "    </tr>\n",
       "    <tr>\n",
       "      <th>3</th>\n",
       "      <td>alouette  potatoes</td>\n",
       "      <td>59389</td>\n",
       "      <td>45</td>\n",
       "      <td>68585</td>\n",
       "      <td>2003-04-14</td>\n",
       "      <td>['60-minutes-or-less', 'time-to-make', 'course...</td>\n",
       "      <td>[368.1, 17.0, 10.0, 2.0, 14.0, 8.0, 20.0]</td>\n",
       "      <td>11</td>\n",
       "      <td>['place potatoes in a large pot of lightly sal...</td>\n",
       "      <td>this is a super easy, great tasting, make ahea...</td>\n",
       "      <td>['spreadable cheese with garlic and herbs', 'n...</td>\n",
       "      <td>11</td>\n",
       "    </tr>\n",
       "    <tr>\n",
       "      <th>4</th>\n",
       "      <td>amish  tomato ketchup  for canning</td>\n",
       "      <td>44061</td>\n",
       "      <td>190</td>\n",
       "      <td>41706</td>\n",
       "      <td>2002-10-25</td>\n",
       "      <td>['weeknight', 'time-to-make', 'course', 'main-...</td>\n",
       "      <td>[352.9, 1.0, 337.0, 23.0, 3.0, 0.0, 28.0]</td>\n",
       "      <td>5</td>\n",
       "      <td>['mix all ingredients&amp; boil for 2 1 / 2 hours ...</td>\n",
       "      <td>my dh's amish mother raised him on this recipe...</td>\n",
       "      <td>['tomato juice', 'apple cider vinegar', 'sugar...</td>\n",
       "      <td>8</td>\n",
       "    </tr>\n",
       "  </tbody>\n",
       "</table>\n",
       "</div>"
      ],
      "text/plain": [
       "                                         name      id  minutes  \\\n",
       "0  arriba   baked winter squash mexican style  137739       55   \n",
       "1            a bit different  breakfast pizza   31490       30   \n",
       "2                   all in the kitchen  chili  112140      130   \n",
       "3                          alouette  potatoes   59389       45   \n",
       "4          amish  tomato ketchup  for canning   44061      190   \n",
       "\n",
       "   contributor_id   submitted  \\\n",
       "0           47892  2005-09-16   \n",
       "1           26278  2002-06-17   \n",
       "2          196586  2005-02-25   \n",
       "3           68585  2003-04-14   \n",
       "4           41706  2002-10-25   \n",
       "\n",
       "                                                tags  \\\n",
       "0  ['60-minutes-or-less', 'time-to-make', 'course...   \n",
       "1  ['30-minutes-or-less', 'time-to-make', 'course...   \n",
       "2  ['time-to-make', 'course', 'preparation', 'mai...   \n",
       "3  ['60-minutes-or-less', 'time-to-make', 'course...   \n",
       "4  ['weeknight', 'time-to-make', 'course', 'main-...   \n",
       "\n",
       "                                    nutrition  n_steps  \\\n",
       "0       [51.5, 0.0, 13.0, 0.0, 2.0, 0.0, 4.0]       11   \n",
       "1   [173.4, 18.0, 0.0, 17.0, 22.0, 35.0, 1.0]        9   \n",
       "2  [269.8, 22.0, 32.0, 48.0, 39.0, 27.0, 5.0]        6   \n",
       "3   [368.1, 17.0, 10.0, 2.0, 14.0, 8.0, 20.0]       11   \n",
       "4   [352.9, 1.0, 337.0, 23.0, 3.0, 0.0, 28.0]        5   \n",
       "\n",
       "                                               steps  \\\n",
       "0  ['make a choice and proceed with recipe', 'dep...   \n",
       "1  ['preheat oven to 425 degrees f', 'press dough...   \n",
       "2  ['brown ground beef in large pot', 'add choppe...   \n",
       "3  ['place potatoes in a large pot of lightly sal...   \n",
       "4  ['mix all ingredients& boil for 2 1 / 2 hours ...   \n",
       "\n",
       "                                         description  \\\n",
       "0  autumn is my favorite time of year to cook! th...   \n",
       "1  this recipe calls for the crust to be prebaked...   \n",
       "2  this modified version of 'mom's' chili was a h...   \n",
       "3  this is a super easy, great tasting, make ahea...   \n",
       "4  my dh's amish mother raised him on this recipe...   \n",
       "\n",
       "                                         ingredients  n_ingredients  \n",
       "0  ['winter squash', 'mexican seasoning', 'mixed ...              7  \n",
       "1  ['prepared pizza crust', 'sausage patty', 'egg...              6  \n",
       "2  ['ground beef', 'yellow onions', 'diced tomato...             13  \n",
       "3  ['spreadable cheese with garlic and herbs', 'n...             11  \n",
       "4  ['tomato juice', 'apple cider vinegar', 'sugar...              8  "
      ]
     },
     "execution_count": 10,
     "metadata": {},
     "output_type": "execute_result"
    }
   ],
   "source": [
    "recipe_data.head()"
   ]
  },
  {
   "cell_type": "code",
   "execution_count": null,
   "metadata": {},
   "outputs": [],
   "source": [
    "print(recipe_data['ingredients'][100])\n",
    "\n",
    "\n",
    "def parse_recipe_ingredients(ingredients:str)->str:\n",
    "    ingredient_list= ast.literal_eval(ingredients)\n",
    "    result = \"\"\n",
    "    for i, ingredient in enumerate(ingredient_list):\n",
    "        if(i < len(ingredient_list)-1):\n",
    "            result+= f\"{ingredient}, \"\n",
    "        else:\n",
    "            result+= f\"{ingredient}\"\n",
    "    return result\n",
    "\n",
    "parsed_ingredients = parse_recipe_ingredients(recipe_data['ingredients'][100])\n",
    "print(parsed_ingredients)"
   ]
  },
  {
   "cell_type": "code",
   "execution_count": null,
   "metadata": {},
   "outputs": [],
   "source": [
    "recipe_data['steps'][0]"
   ]
  },
  {
   "cell_type": "markdown",
   "metadata": {},
   "source": [
    "## Testing Model"
   ]
  },
  {
   "cell_type": "code",
   "execution_count": null,
   "metadata": {},
   "outputs": [],
   "source": [
    "client = AzureOpenAI(\n",
    "  api_key = os.getenv(\"AZURE_OPENAI_EMBEDDING_MODEL_KEY\"),  \n",
    "  api_version = os.getenv(\"AZURE_OPENAI_EMBEDDING_MODEL_API_VERSION\"),\n",
    "  azure_endpoint =os.getenv(\"AZURE_OPENAI_ENDPOINT\")\n",
    ")\n",
    "\n",
    "response = client.embeddings.create(\n",
    "            input = [parse_recipe_ingredients(recipe_data['ingredients'][100]),\"cucumber, lamb, chicken\"],\n",
    "            model= os.getenv(\"AZURE_OPENAI_EMBEDDING_MODEL_DEPLOYMENT\")\n",
    "        )\n",
    "json_response = response.model_dump()\n"
   ]
  },
  {
   "cell_type": "code",
   "execution_count": null,
   "metadata": {},
   "outputs": [],
   "source": [
    "embedding_1=np.array(json_response['data'][0]['embedding'])\n",
    "embedding_2=np.array(json_response['data'][1]['embedding'])\n",
    "# similarity_score = np.dot(embedding_1, embedding_2) / (np.linalg.norm(embedding_1) * np.linalg.norm(embedding_2))\n",
    "similarity_score = cosine_similarity(embedding_1.reshape(1,-1),embedding_2.reshape(1,-1)) \n",
    "print(similarity_score)"
   ]
  },
  {
   "cell_type": "code",
   "execution_count": null,
   "metadata": {},
   "outputs": [],
   "source": [
    "client_gpt = AzureOpenAI(\n",
    "              api_key=os.getenv(\"AZURE_OPENAI_KEY_GPT_35T\"),  \n",
    "              api_version=os.getenv(\"AZURE_OPENAI_API_VERSION_GPT_35T\"),\n",
    "              azure_endpoint=os.getenv(\"AZURE_OPENAI_ENDPOINT\"),\n",
    "            )\n",
    "\n",
    "response = client_gpt.chat.completions.create(\n",
    "        model=os.getenv(\"AZURE_OPENAI_CHAT_DEPLOYMENT_GPT_35T\"),\n",
    "        messages=[\n",
    "            { \"role\": \"system\", \"content\": \"You are a helpful assistant.\" },\n",
    "            { \"role\": \"user\", \"content\": [  \n",
    "                { \n",
    "                    \"type\": \"text\", \n",
    "                    \"text\": f\"I have this ingredients: {parse_recipe_ingredients(recipe_data.iloc[100]['ingredients'])}\" \n",
    "                },\n",
    "                { \n",
    "                    \"type\": \"text\", \n",
    "                    \"text\": f\"And this is the step to create a food from my ingredients: {recipe_data.iloc[100]['steps']}\" \n",
    "                },\n",
    "                { \n",
    "                    \"type\": \"text\", \n",
    "                    \"text\": \"Please generate a maximum 3 sentences of food review based on the information above\" \n",
    "                },\n",
    "            ] } \n",
    "        ],\n",
    "        max_tokens=2000 \n",
    "    )\n",
    " \n"
   ]
  },
  {
   "cell_type": "code",
   "execution_count": null,
   "metadata": {},
   "outputs": [],
   "source": [
    "print(response.choices[0].message.content)"
   ]
  },
  {
   "cell_type": "markdown",
   "metadata": {},
   "source": [
    "## Continue pre-processing data"
   ]
  },
  {
   "cell_type": "code",
   "execution_count": null,
   "metadata": {},
   "outputs": [],
   "source": [
    "recipe_data = recipe_data[[\"name\", \"id\",\"steps\",\"description\",\"ingredients\"]]\n"
   ]
  },
  {
   "cell_type": "code",
   "execution_count": null,
   "metadata": {},
   "outputs": [],
   "source": [
    "# Function to check if a value is a string\n",
    "def is_string(value):\n",
    "    return isinstance(value, str)"
   ]
  },
  {
   "cell_type": "code",
   "execution_count": null,
   "metadata": {},
   "outputs": [],
   "source": [
    "# Apply the function to the DataFrame and replace non-string values with NaN\n",
    "recipe_data['ingredients'] = recipe_data['ingredients'].apply(lambda x: x if is_string(x) else np.nan)\n",
    "recipe_data['name'] = recipe_data['name'].apply(lambda x: x if is_string(x) else np.nan)\n",
    "# Drop rows with any NaN values\n",
    "recipe_data = recipe_data.dropna()"
   ]
  },
  {
   "cell_type": "code",
   "execution_count": null,
   "metadata": {},
   "outputs": [],
   "source": [
    "first_1000_recipe_data = recipe_data.head(1000)"
   ]
  },
  {
   "cell_type": "code",
   "execution_count": null,
   "metadata": {},
   "outputs": [],
   "source": [
    "import re\n",
    "def clean_text(text):\n",
    "    # Remove \\r\\n and other special characters\n",
    "    text = re.sub(r'\\s+', ' ', text)  # Replace multiple whitespace with a single space\n",
    "    text = re.sub(r'\\\\r\\\\n', ' ', text)  # Remove \\r\\n\n",
    "    text = re.sub(r'[^A-Za-z0-9\\s.,!?]', '', text)  # Remove special characters except punctuation\n",
    "    text = text.strip()  # Remove leading and trailing whitespace\n",
    "    return text\n"
   ]
  },
  {
   "cell_type": "code",
   "execution_count": null,
   "metadata": {},
   "outputs": [],
   "source": [
    "first_1000_recipe_data['name'] = first_1000_recipe_data['name'].apply(clean_text)\n",
    "first_1000_recipe_data['ingredients'] = first_1000_recipe_data['ingredients'].apply(clean_text)"
   ]
  },
  {
   "cell_type": "code",
   "execution_count": null,
   "metadata": {},
   "outputs": [],
   "source": [
    "first_1000_recipe_data"
   ]
  },
  {
   "cell_type": "code",
   "execution_count": null,
   "metadata": {},
   "outputs": [],
   "source": [
    "first_1000_recipe_data.to_csv(\"../data/filtered_raw_recipe.csv\",index=False)"
   ]
  },
  {
   "cell_type": "markdown",
   "metadata": {},
   "source": [
    "# Start Embedding"
   ]
  },
  {
   "cell_type": "code",
   "execution_count": null,
   "metadata": {},
   "outputs": [],
   "source": [
    "first_1000_recipe_data = pd.read_csv(\"../data/filtered_raw_recipe.csv\")"
   ]
  },
  {
   "cell_type": "code",
   "execution_count": null,
   "metadata": {},
   "outputs": [],
   "source": [
    "print(first_1000_recipe_data['name'][100])\n",
    "print(first_1000_recipe_data['ingredients'][100])"
   ]
  },
  {
   "cell_type": "code",
   "execution_count": null,
   "metadata": {},
   "outputs": [],
   "source": [
    "client = AzureOpenAI(\n",
    "    api_key = os.getenv(\"AZURE_OPENAI_EMBEDDING_MODEL_KEY\"),  \n",
    "    api_version = os.getenv(\"AZURE_OPENAI_EMBEDDING_MODEL_API_VERSION\"),\n",
    "    azure_endpoint =os.getenv(\"AZURE_OPENAI_ENDPOINT\") \n",
    ")\n",
    "\n",
    "\n",
    "def convert_column_to_embedding(column_name:str,increment:int=10,max_row:int=1000) -> list[list[int]]:\n",
    "    list_of_embedding = []\n",
    "    counter = 0\n",
    "    while counter < max_row:\n",
    "        # Get a response from Embedding API\n",
    "        input_api = [row_value for row_value in first_1000_recipe_data[column_name][counter:counter+increment]]\n",
    "        print(\"counter\",counter)\n",
    "        response = client.embeddings.create(\n",
    "            input = input_api,\n",
    "            model= os.getenv(\"AZURE_OPENAI_EMBEDDING_MODEL_DEPLOYMENT\")\n",
    "        )\n",
    "        json_response = response.model_dump()\n",
    "        for data_response in json_response['data']:\n",
    "            list_of_embedding.append(data_response['embedding'])\n",
    "        counter += increment\n",
    "    return list_of_embedding\n"
   ]
  },
  {
   "cell_type": "code",
   "execution_count": null,
   "metadata": {},
   "outputs": [],
   "source": [
    "name_embedding = convert_column_to_embedding('name',20,len(first_1000_recipe_data))\n",
    "ingredients_embedding = convert_column_to_embedding('ingredients',20,len(first_1000_recipe_data))"
   ]
  },
  {
   "cell_type": "code",
   "execution_count": null,
   "metadata": {},
   "outputs": [],
   "source": [
    "for embed in ingredients_embedding:\n",
    "    print(len(embed))\n"
   ]
  },
  {
   "cell_type": "code",
   "execution_count": null,
   "metadata": {},
   "outputs": [],
   "source": [
    "first_1000_recipe_data['name_embedding']=[str(name) for name in name_embedding]\n",
    "first_1000_recipe_data['ingredients_embedding']=[str(desc) for desc in ingredients_embedding]"
   ]
  },
  {
   "cell_type": "code",
   "execution_count": null,
   "metadata": {},
   "outputs": [],
   "source": [
    "first_1000_recipe_data"
   ]
  },
  {
   "cell_type": "code",
   "execution_count": null,
   "metadata": {},
   "outputs": [],
   "source": [
    "first_1000_recipe_data.to_csv(\"../data/embedded_raw_recipe.csv\",index=False)"
   ]
  },
  {
   "cell_type": "markdown",
   "metadata": {},
   "source": [
    "# Add syntethic food review"
   ]
  },
  {
   "cell_type": "code",
   "execution_count": null,
   "metadata": {},
   "outputs": [],
   "source": [
    "embedding_recipe = pd.read_csv(\"../data/embedded_raw_recipe.csv\")"
   ]
  },
  {
   "cell_type": "code",
   "execution_count": null,
   "metadata": {},
   "outputs": [],
   "source": [
    "embedding_recipe.head()"
   ]
  },
  {
   "cell_type": "code",
   "execution_count": null,
   "metadata": {},
   "outputs": [],
   "source": [
    "embedding_recipe= embedding_recipe.head(500)"
   ]
  },
  {
   "cell_type": "code",
   "execution_count": null,
   "metadata": {},
   "outputs": [],
   "source": [
    "def generate_syntethic_review()->list[str]:\n",
    "    client_gpt = AzureOpenAI(\n",
    "              api_key=os.getenv(\"AZURE_OPENAI_KEY_GPT_35T\"),  \n",
    "              api_version=os.getenv(\"AZURE_OPENAI_API_VERSION_GPT_35T\"),\n",
    "              azure_endpoint=os.getenv(\"AZURE_OPENAI_ENDPOINT\"),\n",
    "            )\n",
    "    generated_reviews = []\n",
    "    for i in range(len(embedding_recipe)):\n",
    "        response = client_gpt.chat.completions.create(\n",
    "            model=os.getenv(\"AZURE_OPENAI_CHAT_DEPLOYMENT_GPT_35T\"),\n",
    "            messages=[\n",
    "                { \"role\": \"system\", \"content\": \"You are a helpful assistant.\" },\n",
    "                { \"role\": \"user\", \"content\": [  \n",
    "                    { \n",
    "                        \"type\": \"text\", \n",
    "                        \"text\": f\"I have this ingredients: {embedding_recipe.iloc[i]['ingredients']}\" \n",
    "                    },\n",
    "                    { \n",
    "                        \"type\": \"text\", \n",
    "                        \"text\": f\"And this is the step to create a food from my ingredients: {embedding_recipe.iloc[i]['steps']}\" \n",
    "                    },\n",
    "                    { \n",
    "                        \"type\": \"text\", \n",
    "                        \"text\": \"Please generate a maximum 2 sentences of food review based on the information above\" \n",
    "                    },\n",
    "                ] } \n",
    "            ],\n",
    "            max_tokens=2000 \n",
    "        )\n",
    "        print(\"iter: \",i)\n",
    "        generated_reviews.append(response.choices[0].message.content)\n",
    "    return generated_reviews"
   ]
  },
  {
   "cell_type": "code",
   "execution_count": null,
   "metadata": {},
   "outputs": [],
   "source": [
    "generated_reviews = generate_syntethic_review()"
   ]
  },
  {
   "cell_type": "code",
   "execution_count": null,
   "metadata": {},
   "outputs": [],
   "source": [
    "embedding_recipe['synthetic_review'] = generated_reviews"
   ]
  },
  {
   "cell_type": "code",
   "execution_count": null,
   "metadata": {},
   "outputs": [],
   "source": [
    "embedding_recipe.to_csv(\"../data/recipe_with_review.csv\")"
   ]
  },
  {
   "cell_type": "markdown",
   "metadata": {},
   "source": [
    "# Add embedding for synthetic review"
   ]
  },
  {
   "cell_type": "code",
   "execution_count": null,
   "metadata": {},
   "outputs": [],
   "source": [
    "recipe_with_review = pd.read_csv(\"../data/recipe_with_review.csv\")"
   ]
  },
  {
   "cell_type": "code",
   "execution_count": null,
   "metadata": {},
   "outputs": [],
   "source": [
    "recipe_with_review.head()"
   ]
  },
  {
   "cell_type": "code",
   "execution_count": null,
   "metadata": {},
   "outputs": [],
   "source": [
    "client = AzureOpenAI(\n",
    "    api_key = os.getenv(\"AZURE_OPENAI_EMBEDDING_MODEL_KEY\"),  \n",
    "    api_version = os.getenv(\"AZURE_OPENAI_EMBEDDING_MODEL_API_VERSION\"),\n",
    "    azure_endpoint =os.getenv(\"AZURE_OPENAI_ENDPOINT\") \n",
    ")\n",
    "\n",
    "\n",
    "def convert_column_to_embedding(column_name:str,increment:int=10,max_row:int=1000) -> list[list[int]]:\n",
    "    list_of_embedding = []\n",
    "    counter = 0\n",
    "    while counter < max_row:\n",
    "        # Get a response from Embedding API\n",
    "        input_api = [row_value for row_value in recipe_with_review[column_name][counter:counter+increment]]\n",
    "        print(\"counter\",counter)\n",
    "        response = client.embeddings.create(\n",
    "            input = input_api,\n",
    "            model= os.getenv(\"AZURE_OPENAI_EMBEDDING_MODEL_DEPLOYMENT\")\n",
    "        )\n",
    "        json_response = response.model_dump()\n",
    "        for data_response in json_response['data']:\n",
    "            list_of_embedding.append(data_response['embedding'])\n",
    "        counter += increment\n",
    "    return list_of_embedding"
   ]
  },
  {
   "cell_type": "code",
   "execution_count": null,
   "metadata": {},
   "outputs": [],
   "source": [
    "review_embedding = convert_column_to_embedding('synthetic_review',20,len(recipe_with_review))"
   ]
  },
  {
   "cell_type": "code",
   "execution_count": null,
   "metadata": {},
   "outputs": [],
   "source": [
    "recipe_with_review['synthetic_review_embedding'] = review_embedding"
   ]
  },
  {
   "cell_type": "code",
   "execution_count": null,
   "metadata": {},
   "outputs": [],
   "source": [
    "recipe_with_review"
   ]
  },
  {
   "cell_type": "code",
   "execution_count": null,
   "metadata": {},
   "outputs": [],
   "source": [
    "recipe_with_review.to_csv(\"../data/embedded_recipe_with_review.csv\",index=False)"
   ]
  },
  {
   "cell_type": "markdown",
   "metadata": {},
   "source": [
    "# Insert Embedding Data into DB"
   ]
  },
  {
   "cell_type": "code",
   "execution_count": 3,
   "metadata": {},
   "outputs": [],
   "source": [
    "connections.connect(host='0.0.0.0', port='19530')\n",
    "\n",
    "def create_milvus_collection(collection_name:str, dim:int, drop_existing_collection:bool=True):\n",
    "    connections.connect(host='0.0.0.0', port='19530')\n",
    "    if drop_existing_collection and utility.has_collection(collection_name):\n",
    "        utility.drop_collection(collection_name)\n",
    "    \n",
    "    fields = [\n",
    "            FieldSchema(name=\"id\", dtype=DataType.INT64, is_primary=True, auto_id=False),\n",
    "            FieldSchema(name=\"name\", dtype=DataType.VARCHAR, max_length=500),   \n",
    "            FieldSchema(name=\"name_embedding\", dtype=DataType.FLOAT_VECTOR, dim=dim),\n",
    "            FieldSchema(name=\"steps\", dtype=DataType.VARCHAR, max_length=5000),\n",
    "            FieldSchema(name=\"description\", dtype=DataType.VARCHAR, max_length=3000),\n",
    "            FieldSchema(name=\"ingredients\", dtype=DataType.VARCHAR, max_length=3000),\n",
    "            FieldSchema(name=\"ingredients_embedding\", dtype=DataType.FLOAT_VECTOR, dim=dim),\n",
    "            FieldSchema(name=\"synthetic_review\", dtype=DataType.VARCHAR, max_length=3000),\n",
    "            FieldSchema(name=\"synthetic_review_embedding\", dtype=DataType.FLOAT_VECTOR, dim=dim),\n",
    "    ]\n",
    "    schema = CollectionSchema(fields=fields, description='Food recipe data')\n",
    "    collection = Collection(name=collection_name, schema=schema,enable_dynamic_field=False)\n",
    "    \n",
    "    vector_index_params = {\n",
    "        'metric_type': \"COSINE\",\n",
    "        'index_type': \"IVF_FLAT\",\n",
    "        'params': {\"nlist\": 240}\n",
    "    }\n",
    "    scalar_index_params = {\n",
    "        'index_name': \"name_index\",\n",
    "        \"index_type\":\"INVERTED\"\n",
    "    }\n",
    "    collection.create_index(field_name='name_embedding', index_params=vector_index_params)\n",
    "    collection.create_index(field_name='ingredients_embedding', index_params=vector_index_params)\n",
    "    collection.create_index(field_name='synthetic_review_embedding', index_params=vector_index_params)\n",
    "    collection.create_index(field_name='name', index_params=scalar_index_params)\n",
    "\n",
    "    return collection"
   ]
  },
  {
   "cell_type": "code",
   "execution_count": 4,
   "metadata": {},
   "outputs": [],
   "source": [
    "collection = create_milvus_collection(\"food_recipe_collection\",1536)"
   ]
  },
  {
   "cell_type": "code",
   "execution_count": 5,
   "metadata": {},
   "outputs": [
    {
     "data": {
      "text/plain": [
       "0"
      ]
     },
     "execution_count": 5,
     "metadata": {},
     "output_type": "execute_result"
    }
   ],
   "source": [
    "collection.num_entities"
   ]
  },
  {
   "cell_type": "code",
   "execution_count": 2,
   "metadata": {},
   "outputs": [],
   "source": [
    "recipe_with_review_embedded = pd.read_csv(\"../data/embedded_recipe_with_review.csv\",converters={'name_embedding': lambda x: ast.literal_eval(x), \n",
    "                                                                                                'ingredients_embedding': lambda x: ast.literal_eval(x),\n",
    "                                                                                                'synthetic_review_embedding': lambda x: ast.literal_eval(x)})"
   ]
  },
  {
   "cell_type": "code",
   "execution_count": 3,
   "metadata": {},
   "outputs": [
    {
     "data": {
      "text/html": [
       "<div>\n",
       "<style scoped>\n",
       "    .dataframe tbody tr th:only-of-type {\n",
       "        vertical-align: middle;\n",
       "    }\n",
       "\n",
       "    .dataframe tbody tr th {\n",
       "        vertical-align: top;\n",
       "    }\n",
       "\n",
       "    .dataframe thead th {\n",
       "        text-align: right;\n",
       "    }\n",
       "</style>\n",
       "<table border=\"1\" class=\"dataframe\">\n",
       "  <thead>\n",
       "    <tr style=\"text-align: right;\">\n",
       "      <th></th>\n",
       "      <th>Unnamed: 0</th>\n",
       "      <th>name</th>\n",
       "      <th>id</th>\n",
       "      <th>steps</th>\n",
       "      <th>description</th>\n",
       "      <th>ingredients</th>\n",
       "      <th>name_embedding</th>\n",
       "      <th>ingredients_embedding</th>\n",
       "      <th>synthetic_review</th>\n",
       "      <th>synthetic_review_embedding</th>\n",
       "    </tr>\n",
       "  </thead>\n",
       "  <tbody>\n",
       "    <tr>\n",
       "      <th>0</th>\n",
       "      <td>0</td>\n",
       "      <td>arriba baked winter squash mexican style</td>\n",
       "      <td>137739</td>\n",
       "      <td>['make a choice and proceed with recipe', 'dep...</td>\n",
       "      <td>autumn is my favorite time of year to cook! th...</td>\n",
       "      <td>winter squash, mexican seasoning, mixed spice,...</td>\n",
       "      <td>[0.0053487359546124935, 0.008235931396484375, ...</td>\n",
       "      <td>[0.0007305422332137823, -0.0072620403952896595...</td>\n",
       "      <td>I tried the winter squash with Mexican seasoni...</td>\n",
       "      <td>[-0.007140638772398233, 0.0011853587348014116,...</td>\n",
       "    </tr>\n",
       "    <tr>\n",
       "      <th>1</th>\n",
       "      <td>1</td>\n",
       "      <td>a bit different breakfast pizza</td>\n",
       "      <td>31490</td>\n",
       "      <td>['preheat oven to 425 degrees f', 'press dough...</td>\n",
       "      <td>this recipe calls for the crust to be prebaked...</td>\n",
       "      <td>prepared pizza crust, sausage patty, eggs, mil...</td>\n",
       "      <td>[0.01900552771985531, 0.0007024979568086565, 0...</td>\n",
       "      <td>[0.030630841851234436, -0.00014163280138745904...</td>\n",
       "      <td>This sausage and egg breakfast pizza is a deli...</td>\n",
       "      <td>[0.03296177089214325, -0.0009218796622008085, ...</td>\n",
       "    </tr>\n",
       "    <tr>\n",
       "      <th>2</th>\n",
       "      <td>2</td>\n",
       "      <td>all in the kitchen chili</td>\n",
       "      <td>112140</td>\n",
       "      <td>['brown ground beef in large pot', 'add choppe...</td>\n",
       "      <td>this modified version of 'mom's' chili was a h...</td>\n",
       "      <td>ground beef, yellow onions, diced tomatoes, to...</td>\n",
       "      <td>[0.006139178294688463, 0.0013280771672725677, ...</td>\n",
       "      <td>[-0.0016437169397249818, 0.0006793703651055694...</td>\n",
       "      <td>The chili made from the combination of ground ...</td>\n",
       "      <td>[0.0051086535677313805, 0.013087042607367039, ...</td>\n",
       "    </tr>\n",
       "    <tr>\n",
       "      <th>3</th>\n",
       "      <td>3</td>\n",
       "      <td>alouette potatoes</td>\n",
       "      <td>59389</td>\n",
       "      <td>['place potatoes in a large pot of lightly sal...</td>\n",
       "      <td>this is a super easy, great tasting, make ahea...</td>\n",
       "      <td>spreadable cheese with garlic and herbs, new p...</td>\n",
       "      <td>[-0.0026074324268847704, -0.01385664101690054,...</td>\n",
       "      <td>[0.0013258986873552203, -0.012965815141797066,...</td>\n",
       "      <td>This dish is a flavorful and satisfying combin...</td>\n",
       "      <td>[0.012579272501170635, -0.007429368793964386, ...</td>\n",
       "    </tr>\n",
       "    <tr>\n",
       "      <th>4</th>\n",
       "      <td>4</td>\n",
       "      <td>amish tomato ketchup for canning</td>\n",
       "      <td>44061</td>\n",
       "      <td>['mix all ingredients&amp; boil for 2 1 / 2 hours ...</td>\n",
       "      <td>my dh's amish mother raised him on this recipe...</td>\n",
       "      <td>tomato juice, apple cider vinegar, sugar, salt...</td>\n",
       "      <td>[-0.0009257544879801571, -0.009939315728843212...</td>\n",
       "      <td>[0.00800400972366333, -0.009005345404148102, -...</td>\n",
       "      <td>The homemade ketchup made with tomato juice, a...</td>\n",
       "      <td>[0.022948384284973145, 0.0011680859606713057, ...</td>\n",
       "    </tr>\n",
       "    <tr>\n",
       "      <th>...</th>\n",
       "      <td>...</td>\n",
       "      <td>...</td>\n",
       "      <td>...</td>\n",
       "      <td>...</td>\n",
       "      <td>...</td>\n",
       "      <td>...</td>\n",
       "      <td>...</td>\n",
       "      <td>...</td>\n",
       "      <td>...</td>\n",
       "      <td>...</td>\n",
       "    </tr>\n",
       "    <tr>\n",
       "      <th>495</th>\n",
       "      <td>495</td>\n",
       "      <td>philly roll sushi</td>\n",
       "      <td>285568</td>\n",
       "      <td>['place one full sheet of sushi nori on a bamb...</td>\n",
       "      <td>makes 2 delicious &amp; easy sushi rolls!</td>\n",
       "      <td>cream cheese, smoked salmon, english cucumber,...</td>\n",
       "      <td>[-0.01217602752149105, -0.0192753616720438, 0....</td>\n",
       "      <td>[-0.006269816774874926, 0.008479120209813118, ...</td>\n",
       "      <td>The sushi rolls made with cream cheese, smoked...</td>\n",
       "      <td>[-0.0024783106055110693, -0.003023313125595450...</td>\n",
       "    </tr>\n",
       "    <tr>\n",
       "      <th>496</th>\n",
       "      <td>496</td>\n",
       "      <td>pink stuff</td>\n",
       "      <td>432027</td>\n",
       "      <td>['mix cool whip and cottage cheese in large bo...</td>\n",
       "      <td>this is my friends moms recipe. i vary it from...</td>\n",
       "      <td>cool whip, lowfat smallcurd cottage cheese, st...</td>\n",
       "      <td>[-0.004030769690871239, 0.0007469958509318531,...</td>\n",
       "      <td>[-0.014467619359493256, 0.007093412335962057, ...</td>\n",
       "      <td>The combination of cool whip, cottage cheese, ...</td>\n",
       "      <td>[-0.016909033060073853, 0.007528887130320072, ...</td>\n",
       "    </tr>\n",
       "    <tr>\n",
       "      <th>497</th>\n",
       "      <td>497</td>\n",
       "      <td>pita the great tuna salad</td>\n",
       "      <td>207743</td>\n",
       "      <td>['combine tuna , red pepper , green onion and ...</td>\n",
       "      <td>i found this recipe in the \"looney spoons\" coo...</td>\n",
       "      <td>tuna in water, sweet red pepper, green onions,...</td>\n",
       "      <td>[-0.006472115870565176, 0.0011167735792696476,...</td>\n",
       "      <td>[-0.012082647532224655, -0.014462264254689217,...</td>\n",
       "      <td>The tuna pita pockets were a delightful combin...</td>\n",
       "      <td>[-0.004645794164389372, 0.009324008598923683, ...</td>\n",
       "    </tr>\n",
       "    <tr>\n",
       "      <th>498</th>\n",
       "      <td>498</td>\n",
       "      <td>pizza beans</td>\n",
       "      <td>299968</td>\n",
       "      <td>['soak the beans overnight', 'drain beans , pl...</td>\n",
       "      <td>i make this often for my son, who gave the dis...</td>\n",
       "      <td>dried beans, bay leaves, onion, green peppers,...</td>\n",
       "      <td>[-0.007129927631467581, -0.03355567157268524, ...</td>\n",
       "      <td>[0.00811612419784069, -0.0014494240749627352, ...</td>\n",
       "      <td>The bean dish is flavorful and satisfying, wit...</td>\n",
       "      <td>[0.0009466591291129589, -0.004376595374196768,...</td>\n",
       "    </tr>\n",
       "    <tr>\n",
       "      <th>499</th>\n",
       "      <td>499</td>\n",
       "      <td>please make those meatballs crockpot meatballs</td>\n",
       "      <td>464946</td>\n",
       "      <td>['put meatballs in the crockpot', 'combine the...</td>\n",
       "      <td>my kids, and the neighbourhood kids, are alway...</td>\n",
       "      <td>frozen meatballs, cream of mushroom soup, brow...</td>\n",
       "      <td>[-0.02395196072757244, -0.02431291528046131, -...</td>\n",
       "      <td>[0.0032530592288821936, -0.026362961158156395,...</td>\n",
       "      <td>The meatballs cooked in a mixture of cream of ...</td>\n",
       "      <td>[0.0006809497717767954, -0.02655099332332611, ...</td>\n",
       "    </tr>\n",
       "  </tbody>\n",
       "</table>\n",
       "<p>500 rows × 10 columns</p>\n",
       "</div>"
      ],
      "text/plain": [
       "     Unnamed: 0                                            name      id  \\\n",
       "0             0        arriba baked winter squash mexican style  137739   \n",
       "1             1                 a bit different breakfast pizza   31490   \n",
       "2             2                        all in the kitchen chili  112140   \n",
       "3             3                               alouette potatoes   59389   \n",
       "4             4                amish tomato ketchup for canning   44061   \n",
       "..          ...                                             ...     ...   \n",
       "495         495                               philly roll sushi  285568   \n",
       "496         496                                      pink stuff  432027   \n",
       "497         497                       pita the great tuna salad  207743   \n",
       "498         498                                     pizza beans  299968   \n",
       "499         499  please make those meatballs crockpot meatballs  464946   \n",
       "\n",
       "                                                 steps  \\\n",
       "0    ['make a choice and proceed with recipe', 'dep...   \n",
       "1    ['preheat oven to 425 degrees f', 'press dough...   \n",
       "2    ['brown ground beef in large pot', 'add choppe...   \n",
       "3    ['place potatoes in a large pot of lightly sal...   \n",
       "4    ['mix all ingredients& boil for 2 1 / 2 hours ...   \n",
       "..                                                 ...   \n",
       "495  ['place one full sheet of sushi nori on a bamb...   \n",
       "496  ['mix cool whip and cottage cheese in large bo...   \n",
       "497  ['combine tuna , red pepper , green onion and ...   \n",
       "498  ['soak the beans overnight', 'drain beans , pl...   \n",
       "499  ['put meatballs in the crockpot', 'combine the...   \n",
       "\n",
       "                                           description  \\\n",
       "0    autumn is my favorite time of year to cook! th...   \n",
       "1    this recipe calls for the crust to be prebaked...   \n",
       "2    this modified version of 'mom's' chili was a h...   \n",
       "3    this is a super easy, great tasting, make ahea...   \n",
       "4    my dh's amish mother raised him on this recipe...   \n",
       "..                                                 ...   \n",
       "495              makes 2 delicious & easy sushi rolls!   \n",
       "496  this is my friends moms recipe. i vary it from...   \n",
       "497  i found this recipe in the \"looney spoons\" coo...   \n",
       "498  i make this often for my son, who gave the dis...   \n",
       "499  my kids, and the neighbourhood kids, are alway...   \n",
       "\n",
       "                                           ingredients  \\\n",
       "0    winter squash, mexican seasoning, mixed spice,...   \n",
       "1    prepared pizza crust, sausage patty, eggs, mil...   \n",
       "2    ground beef, yellow onions, diced tomatoes, to...   \n",
       "3    spreadable cheese with garlic and herbs, new p...   \n",
       "4    tomato juice, apple cider vinegar, sugar, salt...   \n",
       "..                                                 ...   \n",
       "495  cream cheese, smoked salmon, english cucumber,...   \n",
       "496  cool whip, lowfat smallcurd cottage cheese, st...   \n",
       "497  tuna in water, sweet red pepper, green onions,...   \n",
       "498  dried beans, bay leaves, onion, green peppers,...   \n",
       "499  frozen meatballs, cream of mushroom soup, brow...   \n",
       "\n",
       "                                        name_embedding  \\\n",
       "0    [0.0053487359546124935, 0.008235931396484375, ...   \n",
       "1    [0.01900552771985531, 0.0007024979568086565, 0...   \n",
       "2    [0.006139178294688463, 0.0013280771672725677, ...   \n",
       "3    [-0.0026074324268847704, -0.01385664101690054,...   \n",
       "4    [-0.0009257544879801571, -0.009939315728843212...   \n",
       "..                                                 ...   \n",
       "495  [-0.01217602752149105, -0.0192753616720438, 0....   \n",
       "496  [-0.004030769690871239, 0.0007469958509318531,...   \n",
       "497  [-0.006472115870565176, 0.0011167735792696476,...   \n",
       "498  [-0.007129927631467581, -0.03355567157268524, ...   \n",
       "499  [-0.02395196072757244, -0.02431291528046131, -...   \n",
       "\n",
       "                                 ingredients_embedding  \\\n",
       "0    [0.0007305422332137823, -0.0072620403952896595...   \n",
       "1    [0.030630841851234436, -0.00014163280138745904...   \n",
       "2    [-0.0016437169397249818, 0.0006793703651055694...   \n",
       "3    [0.0013258986873552203, -0.012965815141797066,...   \n",
       "4    [0.00800400972366333, -0.009005345404148102, -...   \n",
       "..                                                 ...   \n",
       "495  [-0.006269816774874926, 0.008479120209813118, ...   \n",
       "496  [-0.014467619359493256, 0.007093412335962057, ...   \n",
       "497  [-0.012082647532224655, -0.014462264254689217,...   \n",
       "498  [0.00811612419784069, -0.0014494240749627352, ...   \n",
       "499  [0.0032530592288821936, -0.026362961158156395,...   \n",
       "\n",
       "                                      synthetic_review  \\\n",
       "0    I tried the winter squash with Mexican seasoni...   \n",
       "1    This sausage and egg breakfast pizza is a deli...   \n",
       "2    The chili made from the combination of ground ...   \n",
       "3    This dish is a flavorful and satisfying combin...   \n",
       "4    The homemade ketchup made with tomato juice, a...   \n",
       "..                                                 ...   \n",
       "495  The sushi rolls made with cream cheese, smoked...   \n",
       "496  The combination of cool whip, cottage cheese, ...   \n",
       "497  The tuna pita pockets were a delightful combin...   \n",
       "498  The bean dish is flavorful and satisfying, wit...   \n",
       "499  The meatballs cooked in a mixture of cream of ...   \n",
       "\n",
       "                            synthetic_review_embedding  \n",
       "0    [-0.007140638772398233, 0.0011853587348014116,...  \n",
       "1    [0.03296177089214325, -0.0009218796622008085, ...  \n",
       "2    [0.0051086535677313805, 0.013087042607367039, ...  \n",
       "3    [0.012579272501170635, -0.007429368793964386, ...  \n",
       "4    [0.022948384284973145, 0.0011680859606713057, ...  \n",
       "..                                                 ...  \n",
       "495  [-0.0024783106055110693, -0.003023313125595450...  \n",
       "496  [-0.016909033060073853, 0.007528887130320072, ...  \n",
       "497  [-0.004645794164389372, 0.009324008598923683, ...  \n",
       "498  [0.0009466591291129589, -0.004376595374196768,...  \n",
       "499  [0.0006809497717767954, -0.02655099332332611, ...  \n",
       "\n",
       "[500 rows x 10 columns]"
      ]
     },
     "execution_count": 3,
     "metadata": {},
     "output_type": "execute_result"
    }
   ],
   "source": [
    "recipe_with_review_embedded"
   ]
  },
  {
   "cell_type": "code",
   "execution_count": 4,
   "metadata": {},
   "outputs": [
    {
     "name": "stdout",
     "output_type": "stream",
     "text": [
      "<class 'pandas.core.frame.DataFrame'>\n",
      "RangeIndex: 500 entries, 0 to 499\n",
      "Data columns (total 10 columns):\n",
      " #   Column                      Non-Null Count  Dtype \n",
      "---  ------                      --------------  ----- \n",
      " 0   Unnamed: 0                  500 non-null    int64 \n",
      " 1   name                        500 non-null    object\n",
      " 2   id                          500 non-null    int64 \n",
      " 3   steps                       500 non-null    object\n",
      " 4   description                 500 non-null    object\n",
      " 5   ingredients                 500 non-null    object\n",
      " 6   name_embedding              500 non-null    object\n",
      " 7   ingredients_embedding       500 non-null    object\n",
      " 8   synthetic_review            500 non-null    object\n",
      " 9   synthetic_review_embedding  500 non-null    object\n",
      "dtypes: int64(2), object(8)\n",
      "memory usage: 39.2+ KB\n"
     ]
    }
   ],
   "source": [
    "recipe_with_review_embedded.info()"
   ]
  },
  {
   "cell_type": "code",
   "execution_count": 9,
   "metadata": {},
   "outputs": [
    {
     "data": {
      "text/plain": [
       "(insert count: 500, delete count: 0, upsert count: 0, timestamp: 451559022804598786, success count: 500, err count: 0, cost: 0)"
      ]
     },
     "execution_count": 9,
     "metadata": {},
     "output_type": "execute_result"
    }
   ],
   "source": [
    "entities = []\n",
    "\n",
    "for i in range(len(recipe_with_review_embedded)):\n",
    "    # generate random values for each field in the schema\n",
    "    name_field = recipe_with_review_embedded['name'].iloc[i]\n",
    "    id_field = recipe_with_review_embedded['id'].iloc[i]\n",
    "    steps_field = recipe_with_review_embedded['steps'].iloc[i]\n",
    "    description_field = recipe_with_review_embedded['description'].iloc[i]\n",
    "    ingredients_field = recipe_with_review_embedded['ingredients'].iloc[i]\n",
    "    name_embedding_field = recipe_with_review_embedded['name_embedding'].iloc[i]\n",
    "    ingredients_embedding_field = recipe_with_review_embedded['ingredients_embedding'].iloc[i]\n",
    "    synthetic_review_field = recipe_with_review_embedded['synthetic_review'].iloc[i]\n",
    "    synthetic_review_embedding_field = recipe_with_review_embedded['synthetic_review_embedding'].iloc[i]\n",
    "\n",
    "    # create a dictionary for each entity\n",
    "    entity = {\n",
    "        \"id\":id_field,\n",
    "        \"name\": name_field,\n",
    "        \"name_embedding\": name_embedding_field,\n",
    "        \"steps\": steps_field,\n",
    "        \"description\": description_field,\n",
    "        \"ingredients\": ingredients_field,\n",
    "        \"ingredients_embedding\": ingredients_embedding_field,\n",
    "        \"synthetic_review\": synthetic_review_field,\n",
    "        \"synthetic_review_embedding\": synthetic_review_embedding_field\n",
    "    }\n",
    "\n",
    "    # add the entity to the list\n",
    "    entities.append(entity)\n",
    "    \n",
    "collection.insert(entities)"
   ]
  },
  {
   "cell_type": "code",
   "execution_count": 10,
   "metadata": {},
   "outputs": [
    {
     "data": {
      "text/plain": [
       "0"
      ]
     },
     "execution_count": 10,
     "metadata": {},
     "output_type": "execute_result"
    }
   ],
   "source": [
    "collection.load()\n",
    "collection.num_entities"
   ]
  },
  {
   "cell_type": "markdown",
   "metadata": {},
   "source": [
    "# Query Embedding"
   ]
  },
  {
   "cell_type": "code",
   "execution_count": null,
   "metadata": {},
   "outputs": [],
   "source": [
    "# Connect to Milvus\n",
    "connections.connect(host='0.0.0.0', port='19530')"
   ]
  },
  {
   "cell_type": "code",
   "execution_count": null,
   "metadata": {},
   "outputs": [],
   "source": [
    "collection = create_milvus_collection(\"food_recipe_collection\",1536,drop_existing_collection=False)"
   ]
  },
  {
   "cell_type": "code",
   "execution_count": null,
   "metadata": {},
   "outputs": [],
   "source": [
    "from pymilvus import AnnSearchRequest\n",
    "import json\n",
    "\n",
    "with open('../data/user_data.json') as f:\n",
    "    user_data = json.load(f)"
   ]
  },
  {
   "cell_type": "code",
   "execution_count": null,
   "metadata": {},
   "outputs": [],
   "source": [
    "user_food_preference = user_data[0]['food_preference']"
   ]
  },
  {
   "cell_type": "code",
   "execution_count": null,
   "metadata": {},
   "outputs": [],
   "source": [
    "def parse_food_preference_for_ingredient_query(food_preference:list[str])->str:\n",
    "    result = \"\"\n",
    "    for i, food in enumerate(food_preference):\n",
    "        if i < len(food_preference)-1:\n",
    "            result+=f\"{food}, \"\n",
    "        else:\n",
    "            result+=food\n",
    "    return result\n",
    "\n",
    "def parse_food_preference_for_review_query(food_preference:list[str])->str:\n",
    "    result = \"Food with \"\n",
    "    for i, food in enumerate(food_preference):\n",
    "        if i < len(food_preference)-1:\n",
    "            result+= f\"{food} or \"\n",
    "        else:\n",
    "            result+=food\n",
    "    return result"
   ]
  },
  {
   "cell_type": "code",
   "execution_count": null,
   "metadata": {},
   "outputs": [],
   "source": [
    "ingredient_query = parse_food_preference_for_ingredient_query(user_food_preference)\n",
    "review_query = parse_food_preference_for_review_query(user_food_preference)\n",
    "print(ingredient_query)\n",
    "print(review_query)"
   ]
  },
  {
   "cell_type": "code",
   "execution_count": null,
   "metadata": {},
   "outputs": [],
   "source": [
    "client = AzureOpenAI(\n",
    "  api_key = os.getenv(\"AZURE_OPENAI_EMBEDDING_MODEL_KEY\"),  \n",
    "  api_version = os.getenv(\"AZURE_OPENAI_EMBEDDING_MODEL_API_VERSION\"),\n",
    "  azure_endpoint =os.getenv(\"AZURE_OPENAI_ENDPOINT\") \n",
    ")\n",
    "\n",
    "response = client.embeddings.create(\n",
    "            input = [ingredient_query,review_query],\n",
    "            model= os.getenv(\"AZURE_OPENAI_EMBEDDING_MODEL_DEPLOYMENT\")\n",
    "        )\n",
    "json_response = response.model_dump()\n"
   ]
  },
  {
   "cell_type": "code",
   "execution_count": null,
   "metadata": {},
   "outputs": [],
   "source": [
    "ingredient_query_embedding=json_response['data'][0]['embedding']\n",
    "review_query_embedding=json_response['data'][1]['embedding']"
   ]
  },
  {
   "cell_type": "code",
   "execution_count": null,
   "metadata": {},
   "outputs": [],
   "source": [
    "type(ingredient_query_embedding[0])"
   ]
  },
  {
   "cell_type": "code",
   "execution_count": null,
   "metadata": {},
   "outputs": [],
   "source": [
    "search_param_ingredients = {\n",
    "    \"data\": [ingredient_query_embedding], # Query vector\n",
    "    \"anns_field\": \"ingredients_embedding\", # Vector field name\n",
    "    \"param\": {\n",
    "        \"metric_type\": \"COSINE\", # This parameter value must be identical to the one used in the collection schema\n",
    "        \"params\": {\"nprobe\": 10}\n",
    "    },\n",
    "    \"limit\": 10 # Number of search results to return in this AnnSearchRequest\n",
    "}\n",
    "search_request_ingredients = AnnSearchRequest(**search_param_ingredients)\n",
    "\n",
    "search_param_food_name = {\n",
    "    \"data\": [review_query_embedding], # Query vector\n",
    "    \"anns_field\": \"name_embedding\", # Vector field name\n",
    "    \"param\": {\n",
    "        \"metric_type\": \"COSINE\", # This parameter value must be identical to the one used in the collection schema\n",
    "        \"params\": {\"nprobe\": 10}\n",
    "    },\n",
    "    \"limit\": 10 # Number of search results to return in this AnnSearchRequest\n",
    "}\n",
    "search_request_food_name = AnnSearchRequest(**search_param_food_name)\n",
    "\n",
    "search_param_review = {\n",
    "    \"data\": [review_query_embedding], # Query vector\n",
    "    \"anns_field\": \"synthetic_review_embedding\", # Vector field name\n",
    "    \"param\": {\n",
    "        \"metric_type\": \"COSINE\", # This parameter value must be identical to the one used in the collection schema\n",
    "        \"params\": {\"nprobe\": 10}\n",
    "    },\n",
    "    \"limit\": 10 # Number of search results to return in this AnnSearchRequest\n",
    "}\n",
    "search_request_review = AnnSearchRequest(**search_param_review)\n",
    "\n",
    "# Store these two requests as a list in `reqs`\n",
    "search_reqs = [search_request_ingredients, search_request_food_name, search_request_review]"
   ]
  },
  {
   "cell_type": "code",
   "execution_count": null,
   "metadata": {},
   "outputs": [],
   "source": [
    "from pymilvus import WeightedRanker\n",
    "# Use WeightedRanker to combine results with specified weights\n",
    "# Assign weights of 0.7 to ingredients search and 0.3 to name search\n",
    "rerank = WeightedRanker(0.4, 0.2,0.4)"
   ]
  },
  {
   "cell_type": "code",
   "execution_count": null,
   "metadata": {},
   "outputs": [],
   "source": [
    "# Before conducting hybrid search, load the collection into memory.\n",
    "collection.load()"
   ]
  },
  {
   "cell_type": "code",
   "execution_count": null,
   "metadata": {},
   "outputs": [],
   "source": [
    "res = collection.hybrid_search(\n",
    "    search_reqs, # List of AnnSearchRequests created in step 1\n",
    "    rerank, # Reranking strategy specified in step 2\n",
    "    limit=10, # Number of final search results to return,\n",
    "    output_fields=[\"name\",\"ingredients\",\"synthetic_review\"]\n",
    ")"
   ]
  },
  {
   "cell_type": "code",
   "execution_count": null,
   "metadata": {},
   "outputs": [],
   "source": [
    "print(res)"
   ]
  },
  {
   "cell_type": "code",
   "execution_count": null,
   "metadata": {},
   "outputs": [],
   "source": [
    "def parse_db_search_result(res:SearchResult)->list[dict[str,str]]:\n",
    "    result = {}\n",
    "    for hits in res:\n",
    "        for i,hit in enumerate(hits):\n",
    "            result[i+1] = {\n",
    "                \"recipe_name\":hit.get('name'),\n",
    "                \"ingredients\":hit.get('ingredients'),\n",
    "                \"review\":hit.get('synthetic_review')\n",
    "            }\n",
    "    return result"
   ]
  },
  {
   "cell_type": "code",
   "execution_count": null,
   "metadata": {},
   "outputs": [],
   "source": [
    "search_result = parse_db_search_result(res)"
   ]
  },
  {
   "cell_type": "code",
   "execution_count": null,
   "metadata": {},
   "outputs": [],
   "source": [
    "search_result"
   ]
  },
  {
   "cell_type": "code",
   "execution_count": null,
   "metadata": {},
   "outputs": [],
   "source": [
    "str(search_result)"
   ]
  },
  {
   "cell_type": "code",
   "execution_count": null,
   "metadata": {},
   "outputs": [],
   "source": [
    "response.choices[0].message.content"
   ]
  },
  {
   "cell_type": "markdown",
   "metadata": {},
   "source": [
    "# Scalar search DB"
   ]
  },
  {
   "cell_type": "code",
   "execution_count": 11,
   "metadata": {},
   "outputs": [],
   "source": [
    "from pymilvus import Collection\n",
    "\n",
    "collection = create_milvus_collection(\"food_recipe_collection\",1536,drop_existing_collection=False)"
   ]
  },
  {
   "cell_type": "code",
   "execution_count": 16,
   "metadata": {},
   "outputs": [],
   "source": [
    "res=collection.query(\n",
    "    expr='name == \"21 apple pie\"',\n",
    "    limit=5,\n",
    "    output_fields=[\"ingredients\",\"steps\",\"synthetic_review\"]\n",
    ")"
   ]
  },
  {
   "cell_type": "code",
   "execution_count": 22,
   "metadata": {},
   "outputs": [
    {
     "data": {
      "text/plain": [
       "{'id': 146,\n",
       " 'ingredients': 'allpurpose flour, salt, unsalted butter, ice water, apples, lemons, dark brown sugar, light brown sugar, southern comfort, cinnamon, egg',\n",
       " 'steps': \"['add the cold butter cubes and , with a pastry blender , blend in the flour until mixture becomes mealy ans butter forms peas-size nuggets plainly visible in the flour', 'the water should be added to the flour slowly to ensure that only the minimum amount of water is used', 'do not over-mix the dough', 'when the dough has been mixed just sufficiently to combine the ingredients , form it into a ball and wrap in a piece of plastic wrap and refrigerate for several hours', 'to prepare the filling , melt the butter in a large saute pan until it begins to brown', 'add the sliced apples and cook over medium heat until they begin to soften , about 2 to 3 minutes', 'in a bowl , combine the lemon juice , sugars , southern comfort , and cinnamon', 'add this mixture to the apples and cook 2 to 3 minutes over medium-high heat until the apples are completely caramelized and covered with all the sugar', 'remove filling from the heat and allow to cool', 'preheat the oven to 375 degrees', 'when ready to use , remove the dough from the refrigerator , lightly flour a pastry board and a rolling pin , and unwrap the dough', 'divide the dough into 2 equal pieces and begin to roll out into a circle by rolling evenly outward from the center and turning the dough in small 1 / 8th turns to keep the rolling even', 'when the dough is rolled out to an even thickness and is about 12 inches in diameter and 1 / 8-inch thick , it is ready to be transferred to a 10-inch pie pan or plate', 'lightly butter the pie plate , partially roll the dough up on the rolling pin , lift the dough and center it in the pie pan and unroll', 'roll the second half of the pie dough into a round slightly larger than the pie pan', 'fill the bottom crust with the cooked apples using a slotted spoon to drain the apples', 'reserve juices if desired , for sauce', 'brush an egg wash coating over the lip of the dough', 'this is where it will be sealed to the top crust', 'cover the apples with the top half of the pie dough', 'trim any excess from the top crust before using both hands to crimp the edges of the two crust together to seal', 'with a sharp knife , make several crosshatch slits in the top crust', 'brush with the egg wash and bake for 35 to 40 minutes', 'remove from the oven and cool 20 minutes', 'serve with vanilla ice cream', 'reserved juices can be reduced with heavy cream for a sauce for the pie']\",\n",
       " 'synthetic_review': 'This apple pie is a delicious and flavorful dessert. The crust is buttery and perfectly flaky, while the caramelized apple filling has a hint of Southern Comfort and cinnamon, creating a rich and comforting dessert.'}"
      ]
     },
     "execution_count": 22,
     "metadata": {},
     "output_type": "execute_result"
    }
   ],
   "source": [
    "res[0]"
   ]
  },
  {
   "cell_type": "code",
   "execution_count": null,
   "metadata": {},
   "outputs": [],
   "source": []
  }
 ],
 "metadata": {
  "kernelspec": {
   "display_name": "ML-Env",
   "language": "python",
   "name": "python3"
  },
  "language_info": {
   "codemirror_mode": {
    "name": "ipython",
    "version": 3
   },
   "file_extension": ".py",
   "mimetype": "text/x-python",
   "name": "python",
   "nbconvert_exporter": "python",
   "pygments_lexer": "ipython3",
   "version": "3.12.4"
  }
 },
 "nbformat": 4,
 "nbformat_minor": 2
}
